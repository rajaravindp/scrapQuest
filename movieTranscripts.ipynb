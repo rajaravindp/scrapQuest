{
 "cells": [
  {
   "cell_type": "code",
   "execution_count": 21,
   "id": "7663528b",
   "metadata": {},
   "outputs": [],
   "source": [
    "import requests\n",
    "from bs4 import BeautifulSoup\n",
    "import lxml\n",
    "import os"
   ]
  },
  {
   "cell_type": "code",
   "execution_count": 17,
   "id": "01d91ad7",
   "metadata": {},
   "outputs": [],
   "source": [
    "root = 'https://subslikescript.com'"
   ]
  },
  {
   "cell_type": "code",
   "execution_count": 18,
   "id": "1dba0b57",
   "metadata": {},
   "outputs": [],
   "source": [
    "website = f\"{root}/movies\""
   ]
  },
  {
   "cell_type": "code",
   "execution_count": 19,
   "id": "2dbeff38",
   "metadata": {},
   "outputs": [],
   "source": [
    "res = requests.get(website)"
   ]
  },
  {
   "cell_type": "code",
   "execution_count": 5,
   "id": "c51c2955",
   "metadata": {},
   "outputs": [],
   "source": [
    "content = res.text"
   ]
  },
  {
   "cell_type": "code",
   "execution_count": 6,
   "id": "6037708e",
   "metadata": {},
   "outputs": [],
   "source": [
    "soup = BeautifulSoup(content, 'lxml')"
   ]
  },
  {
   "cell_type": "code",
   "execution_count": 13,
   "id": "4424f5a0",
   "metadata": {},
   "outputs": [],
   "source": [
    "box = soup.find('article', class_= \"main-article\")"
   ]
  },
  {
   "cell_type": "code",
   "execution_count": 15,
   "id": "2ea35213",
   "metadata": {},
   "outputs": [],
   "source": [
    "links = []\n",
    "for link in box.find_all('a', href=True):\n",
    "    links.append(link['href'])"
   ]
  },
  {
   "cell_type": "code",
   "execution_count": 22,
   "id": "f8573dd5",
   "metadata": {},
   "outputs": [],
   "source": [
    "# Create the 'movie_transcripts' folder if it doesn't exist\n",
    "if not os.path.exists('movie_transcripts'):\n",
    "    os.mkdir('movie_transcripts')"
   ]
  },
  {
   "cell_type": "code",
   "execution_count": 24,
   "id": "aae5138a",
   "metadata": {},
   "outputs": [],
   "source": [
    "for link in links:\n",
    "    website = f\"{root}/{link}\"\n",
    "    res = requests.get(website)\n",
    "    content = res.text\n",
    "    soup = BeautifulSoup(content, 'lxml')\n",
    "    box = soup.find('article', class_= \"main-article\")\n",
    "    title = box.find('h1').get_text()\n",
    "    transcript = box.find('div', class_='full-script').get_text(strip=True, separator= \" \")\n",
    "    \n",
    "    file_path = os.path.join('movie_transcripts', f'{title}.txt')\n",
    "    \n",
    "    with open(file_path, 'w', encoding='utf-8') as file: \n",
    "        file.write(transcript)"
   ]
  },
  {
   "cell_type": "code",
   "execution_count": null,
   "id": "b3cb6241",
   "metadata": {},
   "outputs": [],
   "source": []
  }
 ],
 "metadata": {
  "kernelspec": {
   "display_name": "Python 3 (ipykernel)",
   "language": "python",
   "name": "python3"
  },
  "language_info": {
   "codemirror_mode": {
    "name": "ipython",
    "version": 3
   },
   "file_extension": ".py",
   "mimetype": "text/x-python",
   "name": "python",
   "nbconvert_exporter": "python",
   "pygments_lexer": "ipython3",
   "version": "3.9.13"
  }
 },
 "nbformat": 4,
 "nbformat_minor": 5
}
